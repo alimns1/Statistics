{
 "cells": [
  {
   "cell_type": "markdown",
   "id": "632310ee",
   "metadata": {},
   "source": [
    "## Q1"
   ]
  },
  {
   "cell_type": "code",
   "execution_count": 18,
   "id": "985257b1",
   "metadata": {
    "scrolled": false
   },
   "outputs": [
    {
     "name": "stdout",
     "output_type": "stream",
     "text": [
      "Enter the number: 855\n",
      "NO\n"
     ]
    }
   ],
   "source": [
    "number = input('Enter the number: ')\n",
    "i = 0\n",
    "for i in range(int(len(number) / 2)) :\n",
    "    if (number[(i + 1) * -1] != number[i]) :\n",
    "        i = 1\n",
    "        break\n",
    "        \n",
    "if (i == 0):\n",
    "    print('YES')\n",
    "else :\n",
    "    print('NO')"
   ]
  },
  {
   "cell_type": "markdown",
   "id": "27585f66",
   "metadata": {},
   "source": [
    "## Q2"
   ]
  },
  {
   "cell_type": "code",
   "execution_count": 20,
   "id": "4032af36",
   "metadata": {},
   "outputs": [
    {
     "name": "stdout",
     "output_type": "stream",
     "text": [
      "Enter n's value: 2\n",
      "Enter your numbers: 55 58\n",
      "the biggest number is: 58\n"
     ]
    }
   ],
   "source": [
    "n = int(input(\"Enter n's value: \"))\n",
    "nums = input('Enter your numbers: ')\n",
    "x = nums.split(' ')\n",
    "MAX = 0\n",
    "for i in range(n):\n",
    "    if (MAX < int(x[i])) :\n",
    "        MAX = int(x[i])\n",
    "print(f'The biggest number is: {MAX}')"
   ]
  },
  {
   "cell_type": "markdown",
   "id": "31453bf5",
   "metadata": {},
   "source": [
    "## Q3"
   ]
  },
  {
   "cell_type": "code",
   "execution_count": 7,
   "id": "073b1d73",
   "metadata": {},
   "outputs": [
    {
     "name": "stdout",
     "output_type": "stream",
     "text": [
      "Number of even numbers in the above array: 3\n",
      "Number of odd numbers in the above array: 5\n"
     ]
    }
   ],
   "source": [
    "nums = [1, 2, 3, 5, 7, 8, 9, 10]\n",
    "even = 0\n",
    "odd = 0\n",
    "for i in nums :\n",
    "    if (i % 2 == 0):\n",
    "        even += 1\n",
    "    else :\n",
    "        odd += 1\n",
    "print(f'Number of even numbers in the above array: {even}')\n",
    "print(f'Number of odd numbers in the above array: {odd}')"
   ]
  },
  {
   "cell_type": "markdown",
   "id": "b46d59b4",
   "metadata": {},
   "source": [
    "## Q4"
   ]
  },
  {
   "cell_type": "code",
   "execution_count": 8,
   "id": "8a7e1e35",
   "metadata": {
    "scrolled": true
   },
   "outputs": [
    {
     "name": "stdout",
     "output_type": "stream",
     "text": [
      "Enter the date2022-12-5\n",
      "5-12-2022\n"
     ]
    }
   ],
   "source": [
    "date = input('Enter the date: ')\n",
    "x = date.split('-')\n",
    "print(f'{x[2]}-{x[1]}-{x[0]}')"
   ]
  },
  {
   "cell_type": "markdown",
   "id": "67f1de05",
   "metadata": {},
   "source": [
    "## Q5"
   ]
  },
  {
   "cell_type": "code",
   "execution_count": 17,
   "id": "8e9599e1",
   "metadata": {},
   "outputs": [
    {
     "name": "stdout",
     "output_type": "stream",
     "text": [
      "Enter the first list splitted by space: 1 2 3\n",
      "Enter the second list splitted by space: 1 2 7\n",
      "1, 2, 3\n",
      "1, 2, 7\n",
      "The common numbers are:\n",
      "\n",
      "1, 2\n"
     ]
    }
   ],
   "source": [
    "lst1 = input('Enter the first list splitted by space: ')\n",
    "lst2 = input('Enter the second list splitted by space: ')\n",
    "ls1 = lst1.split(' ')\n",
    "ls2 = lst2.split(' ')\n",
    "ls1 = list(map(int, ls1))\n",
    "ls2 = list(map(int, ls2))\n",
    "answer = []\n",
    "for i in ls1 :\n",
    "    for j in ls2:\n",
    "        if (i == j) :\n",
    "            answer.append(i)\n",
    "print('The common numbers are:')\n",
    "print( *answer, sep = ', ')"
   ]
  }
 ],
 "metadata": {
  "kernelspec": {
   "display_name": "Python 3 (ipykernel)",
   "language": "python",
   "name": "python3"
  },
  "language_info": {
   "codemirror_mode": {
    "name": "ipython",
    "version": 3
   },
   "file_extension": ".py",
   "mimetype": "text/x-python",
   "name": "python",
   "nbconvert_exporter": "python",
   "pygments_lexer": "ipython3",
   "version": "3.9.7"
  }
 },
 "nbformat": 4,
 "nbformat_minor": 5
}
